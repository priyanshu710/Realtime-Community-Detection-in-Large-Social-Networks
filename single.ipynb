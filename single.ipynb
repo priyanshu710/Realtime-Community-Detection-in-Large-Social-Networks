{
 "cells": [
  {
   "cell_type": "code",
   "execution_count": 1,
   "metadata": {},
   "outputs": [
    {
     "ename": "AttributeError",
     "evalue": "module 'datasketch' has no attribute 'random_seed'",
     "output_type": "error",
     "traceback": [
      "\u001b[1;31m---------------------------------------------------------------------------\u001b[0m",
      "\u001b[1;31mAttributeError\u001b[0m                            Traceback (most recent call last)",
      "\u001b[1;32md:\\MTech\\SEMESTER 2\\IT752 Web and Social Computing\\WSC Project\\single.ipynb Cell 1\u001b[0m in \u001b[0;36m<cell line: 12>\u001b[1;34m()\u001b[0m\n\u001b[0;32m      <a href='vscode-notebook-cell:/d%3A/MTech/SEMESTER%202/IT752%20Web%20and%20Social%20Computing/WSC%20Project/single.ipynb#W0sZmlsZQ%3D%3D?line=8'>9</a>\u001b[0m num_seeds \u001b[39m=\u001b[39m \u001b[39m10\u001b[39m    \u001b[39m# Number of seeds to use\u001b[39;00m\n\u001b[0;32m     <a href='vscode-notebook-cell:/d%3A/MTech/SEMESTER%202/IT752%20Web%20and%20Social%20Computing/WSC%20Project/single.ipynb#W0sZmlsZQ%3D%3D?line=10'>11</a>\u001b[0m \u001b[39m# Generate `num_seeds` random seeds\u001b[39;00m\n\u001b[1;32m---> <a href='vscode-notebook-cell:/d%3A/MTech/SEMESTER%202/IT752%20Web%20and%20Social%20Computing/WSC%20Project/single.ipynb#W0sZmlsZQ%3D%3D?line=11'>12</a>\u001b[0m seeds \u001b[39m=\u001b[39m ds\u001b[39m.\u001b[39;49mrandom_seed(num_seeds)\n\u001b[0;32m     <a href='vscode-notebook-cell:/d%3A/MTech/SEMESTER%202/IT752%20Web%20and%20Social%20Computing/WSC%20Project/single.ipynb#W0sZmlsZQ%3D%3D?line=13'>14</a>\u001b[0m \u001b[39m# Create MinHash objects for each account\u001b[39;00m\n\u001b[0;32m     <a href='vscode-notebook-cell:/d%3A/MTech/SEMESTER%202/IT752%20Web%20and%20Social%20Computing/WSC%20Project/single.ipynb#W0sZmlsZQ%3D%3D?line=14'>15</a>\u001b[0m minhashes \u001b[39m=\u001b[39m {}\n",
      "\u001b[1;31mAttributeError\u001b[0m: module 'datasketch' has no attribute 'random_seed'"
     ]
    }
   ],
   "source": [
    "import datasketch as ds\n",
    "import networkx as nx\n",
    "\n",
    "# Load email-Eu-core network dataset\n",
    "G = nx.read_edgelist('D:\\MTech\\SEMESTER 2\\IT752 Web and Social Computing\\WSC Project\\Dataset\\email-Eu-core\\email-Eu-core.txt')\n",
    "\n",
    "# Step 1: Compute MinHash signatures\n",
    "num_hashes = 128  # Number of hash functions to use\n",
    "num_seeds = 10    # Number of seeds to use\n",
    "\n",
    "# Generate `num_seeds` random seeds\n",
    "seeds = ds.random_seed(num_seeds)\n",
    "\n",
    "# Create MinHash objects for each account\n",
    "minhashes = {}\n",
    "for account in G.nodes:\n",
    "    account_set = set(G.neighbors(account))\n",
    "    mh = ds.MinHash(num_perm=num_hashes, seed=seeds[0])\n",
    "    for neighbor in account_set:\n",
    "        mh.update(str(neighbor).encode('utf8'))\n",
    "    for seed in seeds[1:]:\n",
    "        mh.merge(ds.MinHash(num_perm=num_hashes, seed=seed))\n",
    "    minhashes[account] = mh\n",
    "\n",
    "# Step 2: Compute LSH table\n",
    "num_bands = 32    # Number of bands to use\n",
    "band_size = 4     # Number of rows per band\n",
    "\n",
    "# Create LSH object\n",
    "lsh = ds.lsh.MinHashLSH(num_perm=num_hashes, num_bands=num_bands, band_size=band_size)\n",
    "\n",
    "# Insert MinHash signatures into LSH object\n",
    "for account, mh in minhashes.items():\n",
    "    lsh.insert(str(account), mh)\n",
    "\n",
    "# Query LSH object with each seed account\n",
    "near_accounts = set()\n",
    "for seed in seeds:\n",
    "    seed_mh = ds.MinHash(num_perm=num_hashes, seed=seed)\n",
    "    near_accounts.update(lsh.query(seed_mh))\n",
    "\n",
    "print(near_accounts)\n"
   ]
  }
 ],
 "metadata": {
  "kernelspec": {
   "display_name": "base",
   "language": "python",
   "name": "python3"
  },
  "language_info": {
   "codemirror_mode": {
    "name": "ipython",
    "version": 3
   },
   "file_extension": ".py",
   "mimetype": "text/x-python",
   "name": "python",
   "nbconvert_exporter": "python",
   "pygments_lexer": "ipython3",
   "version": "3.9.12"
  },
  "orig_nbformat": 4
 },
 "nbformat": 4,
 "nbformat_minor": 2
}
